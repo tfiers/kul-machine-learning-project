{
 "cells": [
  {
   "cell_type": "code",
   "execution_count": 1,
   "metadata": {
    "collapsed": true
   },
   "outputs": [],
   "source": [
    "from model_validator import *"
   ]
  },
  {
   "cell_type": "code",
   "execution_count": 4,
   "metadata": {
    "collapsed": false,
    "scrolled": true
   },
   "outputs": [
    {
     "name": "stdout",
     "output_type": "stream",
     "text": [
      "VALID FILE: data/u24_1.csv\n",
      "2222222\n",
      "19\n",
      "PAGE: i:0 https://www.google.be/?gfe_rd=cr&ei=1Rn3Vv-dOoK1-wa8v4voDQ&gws_rd=ssl\n",
      "\n",
      "PAGE: i:1 https://www.google.be/?gfe_rd=cr&ei=1Rn3Vv-dOoK1-wa8v4voDQ&gws_rd=ssl#q=oostende+sightseeing\n",
      "\n",
      "PAGE: i:2 http://cheeseweb.eu/2013/10/10-reasons-visit-oostende-beach/\n",
      "\n",
      "PAGE: i:3 https://www.google.be/?gfe_rd=cr&ei=1Rn3Vv-dOoK1-wa8v4voDQ&gws_rd=ssl#q=oostende+sightseeing\n",
      "\n",
      "PAGE: i:4 http://www.visitoostende.be/en\n",
      "\n",
      "PAGE: i:5 http://www.visitoostende.be/en/food-and-drink\n",
      "\n",
      "PAGE: i:6 http://www.visitoostende.be/en/come-and-taste-lostendaise\n",
      "\n",
      "PAGE: i:7 http://www.visitoostende.be/en/food-and-drink\n",
      "\n",
      "http://www.visitoostende.be/en/come-and-taste-lostendaise\n",
      "\n",
      "   N_rel  dt_rel  N_prop dt_prop  same_d  p_trav  minlen\n",
      "   0.755   0.000   0.019   0.000   1.000   0.082   1.000\n",
      "\n",
      "Bayes p:      1.149E-09\n",
      "Len-weighted: 1.264E-09\n",
      "\n",
      "\n",
      "PAGE: i:8 http://www.visitoostende.be/en/spend-night-monument\n",
      "\n",
      "PAGE: i:9 http://www.visitoostende.be/en/see-and-do\n",
      "\n",
      "PAGE: i:10 https://www.google.be/?gfe_rd=cr&ei=1Rn3Vv-dOoK1-wa8v4voDQ&gws_rd=ssl#q=oostende+sightseeing\n",
      "\n",
      "PAGE: i:11 http://www.eurostar.com/uk-en/destinations/city/5884/place/3360\n",
      "\n",
      "PAGE: i:12 https://www.google.be/?gfe_rd=cr&ei=1Rn3Vv-dOoK1-wa8v4voDQ&gws_rd=ssl#q=oostende+sightseeing\n",
      "\n",
      "PAGE: i:13 http://oostende.org/en/\n",
      "\n",
      "PAGE: i:14 http://oostende.org/en/cat/sights/\n",
      "\n",
      "PAGE: i:15 http://oostende.org/en/sight/1313/fort-napoleon.html\n",
      "\n",
      "PAGE: i:16 http://oostende.org/en/west-flanders.php\n",
      "\n",
      "PAGE: i:17 http://oostende.org/en/beaches.php\n",
      "\n"
     ]
    },
    {
     "data": {
      "text/plain": [
       "[0, 0.0, 19]"
      ]
     },
     "execution_count": 4,
     "metadata": {},
     "output_type": "execute_result"
    }
   ],
   "source": [
    "validate_user(['data/u24_1.csv','data/u24_2.csv','data/u24_3.csv'])"
   ]
  },
  {
   "cell_type": "code",
   "execution_count": null,
   "metadata": {
    "collapsed": false
   },
   "outputs": [],
   "source": [
    "plt.plot([1,2,3,4],[1,2,3,4])"
   ]
  },
  {
   "cell_type": "code",
   "execution_count": 5,
   "metadata": {
    "collapsed": true
   },
   "outputs": [],
   "source": [
    "plt.show()"
   ]
  },
  {
   "cell_type": "code",
   "execution_count": null,
   "metadata": {
    "collapsed": true
   },
   "outputs": [],
   "source": [
    "validate_user(['./data/u21_1.csv','./data/u21_2.csv',v','./data/u21_4.csv','./data/u21_5.csv','./data/u21_6.csv','./data/u21_7.csv','./data/u21_8.csv','./data/u21_9.csv'])"
   ]
  }
 ],
 "metadata": {
  "kernelspec": {
   "display_name": "Python 3",
   "language": "python",
   "name": "python3"
  },
  "language_info": {
   "codemirror_mode": {
    "name": "ipython",
    "version": 3
   },
   "file_extension": ".py",
   "mimetype": "text/x-python",
   "name": "python",
   "nbconvert_exporter": "python",
   "pygments_lexer": "ipython3",
   "version": "3.5.1"
  }
 },
 "nbformat": 4,
 "nbformat_minor": 0
}
